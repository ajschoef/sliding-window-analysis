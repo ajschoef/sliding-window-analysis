{
 "cells": [
  {
   "cell_type": "code",
   "execution_count": 1,
   "metadata": {},
   "outputs": [],
   "source": [
    "# Cluster locator\n",
    "# This program reads in alignment files for different organisms, obtains their amino acid window frequencies, \n",
    "# calculates the average of each window frequency, then plots those averages against window position to \n",
    "# show where amino acid clusters tend to appear\n",
    "# Avery Hill\n",
    "# 08/06/2020"
   ]
  },
  {
   "cell_type": "code",
   "execution_count": 1,
   "metadata": {},
   "outputs": [],
   "source": [
    "# clear environment\n",
    "%reset -f"
   ]
  },
  {
   "cell_type": "code",
   "execution_count": 2,
   "metadata": {},
   "outputs": [],
   "source": [
    "import numpy as np\n",
    "import pandas as pd\n",
    "import matplotlib.pyplot as plt"
   ]
  },
  {
   "cell_type": "code",
   "execution_count": 3,
   "metadata": {},
   "outputs": [
    {
     "ename": "FileNotFoundError",
     "evalue": "[Errno 2] No such file or directory: 'GEBA-AJS_gyra_align3_psychro.fa'",
     "output_type": "error",
     "traceback": [
      "\u001b[0;31m---------------------------------------------------------------------------\u001b[0m",
      "\u001b[0;31mFileNotFoundError\u001b[0m                         Traceback (most recent call last)",
      "\u001b[0;32m<ipython-input-3-638ab622c854>\u001b[0m in \u001b[0;36m<module>\u001b[0;34m\u001b[0m\n\u001b[1;32m     13\u001b[0m \u001b[0;32mfor\u001b[0m \u001b[0mfile_index\u001b[0m \u001b[0;32min\u001b[0m \u001b[0mrange\u001b[0m\u001b[0;34m(\u001b[0m\u001b[0mnum_of_files\u001b[0m\u001b[0;34m)\u001b[0m\u001b[0;34m:\u001b[0m\u001b[0;34m\u001b[0m\u001b[0;34m\u001b[0m\u001b[0m\n\u001b[1;32m     14\u001b[0m \u001b[0;34m\u001b[0m\u001b[0m\n\u001b[0;32m---> 15\u001b[0;31m     \u001b[0mcontent\u001b[0m \u001b[0;34m=\u001b[0m \u001b[0mopen\u001b[0m\u001b[0;34m(\u001b[0m\u001b[0minfile\u001b[0m\u001b[0;34m[\u001b[0m\u001b[0mfile_index\u001b[0m\u001b[0;34m]\u001b[0m\u001b[0;34m,\u001b[0m \u001b[0;34m\"r\"\u001b[0m\u001b[0;34m)\u001b[0m\u001b[0;34m\u001b[0m\u001b[0;34m\u001b[0m\u001b[0m\n\u001b[0m\u001b[1;32m     16\u001b[0m     \u001b[0mlines\u001b[0m \u001b[0;34m=\u001b[0m \u001b[0mcontent\u001b[0m\u001b[0;34m.\u001b[0m\u001b[0mreadlines\u001b[0m\u001b[0;34m(\u001b[0m\u001b[0;34m)\u001b[0m\u001b[0;34m\u001b[0m\u001b[0;34m\u001b[0m\u001b[0m\n\u001b[1;32m     17\u001b[0m     \u001b[0mcontent\u001b[0m\u001b[0;34m.\u001b[0m\u001b[0mclose\u001b[0m\u001b[0;34m(\u001b[0m\u001b[0;34m)\u001b[0m\u001b[0;34m\u001b[0m\u001b[0;34m\u001b[0m\u001b[0m\n",
      "\u001b[0;31mFileNotFoundError\u001b[0m: [Errno 2] No such file or directory: 'GEBA-AJS_gyra_align3_psychro.fa'"
     ]
    }
   ],
   "source": [
    "# Files containing protein sequence data of different types of \n",
    "# organisms (e.g psychrophiles, thermophiles, and mesophiles)\n",
    "infile = [\"GEBA-AJS_gyra_align3_psychro.fa\", \"GEBA-AJS_gyra_align3_meso.fa\", \"GEBA-AJS_gyra_align3_thermo.fa\"]\n",
    "\n",
    "\n",
    "num_of_files = len(infile)\n",
    "\n",
    "# Create new files for storing an edited version of the protein sequence data\n",
    "# which we will use for data analysis\n",
    "outfile = [\"output_data1.fa\", \"output_data2.fa\", \"output_data3.fa\"]\n",
    "  \n",
    "# For loop to read in and edit each file\n",
    "for file_index in range(num_of_files):\n",
    "    \n",
    "    content = open(infile[file_index], \"r\")\n",
    "    lines = content.readlines()\n",
    "    content.close()\n",
    "\n",
    "    \n",
    "    new_file = open(outfile[file_index], \"w\")\n",
    "    seqs_for_analysis = 0\n",
    "    \n",
    "    for line in lines:\n",
    "        if line[0] != '>':\n",
    "            if line[0] != '\\n':\n",
    "                line = line[:-1]\n",
    "                new_file.write(line)\n",
    "        else:\n",
    "            if line != lines[0]:\n",
    "                new_file.write('\\n')\n",
    "                \n",
    "            # The code below allows you to read an adjustable amount of sequences\n",
    "#             if seqs_for_analysis == max_seqs:\n",
    "#                 break\n",
    "#             seqs_for_analysis += 1\n",
    "    new_file.write('\\n')\n",
    "    new_file.close()"
   ]
  },
  {
   "cell_type": "code",
   "execution_count": null,
   "metadata": {},
   "outputs": [],
   "source": [
    "# Adjustable Variables\n",
    "\n",
    "# Ajust the size of the window\n",
    "window_size = 10\n",
    "\n",
    "# Change amino acid\n",
    "amino = \"G\""
   ]
  },
  {
   "cell_type": "code",
   "execution_count": null,
   "metadata": {},
   "outputs": [],
   "source": [
    "# Obtain amino acid frequencies, put them into sequence arrays, put sequence arrays into taxa arrays\n",
    "\n",
    "taxa_window_freqs = [None] * num_of_files\n",
    "\n",
    "# file_index\n",
    "for file_index in range(len(outfile)):\n",
    "    new_file = open(outfile[file_index], \"r\")      \n",
    "    sequences = new_file.readlines()\n",
    "    new_file.close()\n",
    "\n",
    "    # Sequences per file\n",
    "    num_of_seqs = len(sequences)\n",
    "    \n",
    "    seq_window_freqs = [None] * num_of_seqs\n",
    "\n",
    "    # i is the index of each sequence\n",
    "    for i, seq in enumerate(sequences):\n",
    "        windows_per_seq = len(seq) - window_size\n",
    "        window_freqs = np.zeros(windows_per_seq)\n",
    "        \n",
    "        # j is the index of each window\n",
    "        for j in range(windows_per_seq):\n",
    "            window_count = 0\n",
    "            window_amino_count = 0\n",
    "            count = 0\n",
    "\n",
    "            # This code counts the specified amino acid occurences\n",
    "            while window_count < window_size:\n",
    "                char = seq[j + count]\n",
    "                window_count += 1\n",
    "                if char == amino:\n",
    "                    window_amino_count += 1\n",
    "                count += 1\n",
    "                if (j + count) >= len(seq):\n",
    "                    break\n",
    "                    \n",
    "            # Calculate the window glycine frequency of a window\n",
    "            if (j + count) < len(seq):\n",
    "                window_freqs[j] = window_amino_count / window_size\n",
    "                \n",
    "        # Fill an array with glycine frequencies specific to a window in a specific sequence\n",
    "        seq_window_freqs[i] = window_freqs\n",
    "        \n",
    "    # Fill the taxa array with window frequencies specific to each taxa\n",
    "    taxa_window_freqs[file_index] = seq_window_freqs"
   ]
  },
  {
   "cell_type": "code",
   "execution_count": null,
   "metadata": {},
   "outputs": [],
   "source": [
    "# Put data into a data frame for easier data analysis\n",
    "\n",
    "tables = [None] * num_of_files\n",
    "\n",
    "for j, taxa in enumerate(taxa_window_freqs):\n",
    "    table = pd.DataFrame()\n",
    "    for i, freq in enumerate(taxa):\n",
    "        table[f\"seq_{i}\"] = freq\n",
    "    tables[j] = table.T"
   ]
  },
  {
   "cell_type": "code",
   "execution_count": null,
   "metadata": {},
   "outputs": [],
   "source": [
    "# Calculate the average amino acid frequency at a specific window location\n",
    "\n",
    "window_freq_means = pd.DataFrame()\n",
    "\n",
    "for i, table in enumerate(tables):\n",
    "    table = table.T\n",
    "    window_freq_means[i] = table.mean(axis = 1)"
   ]
  },
  {
   "cell_type": "code",
   "execution_count": null,
   "metadata": {},
   "outputs": [],
   "source": [
    "# Plot mean window frequency for each taxa\n",
    "\n",
    "# titles = [\"Psychro\", \"Meso\", \"Thermo\"]\n",
    "plt.rcParams['figure.figsize'] = [15, 5]\n",
    "\n",
    "for taxa_index in range(num_of_files):\n",
    "#     Comment out plt.figure() to overlay plots! This messes up the titles...\n",
    "#     plt.figure()    \n",
    "    \n",
    "    plt.scatter(range(len(window_freq_means[taxa_index])), window_freq_means[taxa_index], alpha = 0.4)\n",
    "\n",
    "plt.title(f\"Amino acid: {amino}\" )\n",
    "# plt.ylim([0, 0.7])\n",
    "plt.xlabel('Window position')\n",
    "plt.ylabel('Mean window frequency')\n",
    "plt.legend([\"Psychro\", \"Meso\", \"Thermo\"])"
   ]
  },
  {
   "cell_type": "code",
   "execution_count": 4,
   "metadata": {},
   "outputs": [
    {
     "name": "stdout",
     "output_type": "stream",
     "text": [
      "Mean window amino acid frequencies above 0.5 are at positions:\n",
      "\n"
     ]
    },
    {
     "ename": "NameError",
     "evalue": "name 'window_freq_means' is not defined",
     "output_type": "error",
     "traceback": [
      "\u001b[0;31m---------------------------------------------------------------------------\u001b[0m",
      "\u001b[0;31mNameError\u001b[0m                                 Traceback (most recent call last)",
      "\u001b[0;32m<ipython-input-4-d8fe561f5ff4>\u001b[0m in \u001b[0;36m<module>\u001b[0;34m\u001b[0m\n\u001b[1;32m      3\u001b[0m \u001b[0mcutoff\u001b[0m \u001b[0;34m=\u001b[0m \u001b[0;36m0.5\u001b[0m\u001b[0;34m\u001b[0m\u001b[0;34m\u001b[0m\u001b[0m\n\u001b[1;32m      4\u001b[0m \u001b[0mprint\u001b[0m\u001b[0;34m(\u001b[0m\u001b[0;34mf\"Mean window amino acid frequencies above {cutoff} are at positions:\\n\"\u001b[0m\u001b[0;34m)\u001b[0m\u001b[0;34m\u001b[0m\u001b[0;34m\u001b[0m\u001b[0m\n\u001b[0;32m----> 5\u001b[0;31m \u001b[0;32mfor\u001b[0m \u001b[0mi\u001b[0m\u001b[0;34m,\u001b[0m \u001b[0mmean\u001b[0m \u001b[0;32min\u001b[0m \u001b[0menumerate\u001b[0m\u001b[0;34m(\u001b[0m\u001b[0mwindow_freq_means\u001b[0m\u001b[0;34m[\u001b[0m\u001b[0;36m0\u001b[0m\u001b[0;34m]\u001b[0m\u001b[0;34m)\u001b[0m\u001b[0;34m:\u001b[0m\u001b[0;34m\u001b[0m\u001b[0;34m\u001b[0m\u001b[0m\n\u001b[0m\u001b[1;32m      6\u001b[0m     \u001b[0;32mif\u001b[0m \u001b[0mmean\u001b[0m \u001b[0;34m>\u001b[0m \u001b[0mcutoff\u001b[0m\u001b[0;34m:\u001b[0m\u001b[0;34m\u001b[0m\u001b[0;34m\u001b[0m\u001b[0m\n\u001b[1;32m      7\u001b[0m         \u001b[0mprint\u001b[0m\u001b[0;34m(\u001b[0m\u001b[0mi\u001b[0m\u001b[0;34m)\u001b[0m\u001b[0;34m\u001b[0m\u001b[0;34m\u001b[0m\u001b[0m\n",
      "\u001b[0;31mNameError\u001b[0m: name 'window_freq_means' is not defined"
     ]
    }
   ],
   "source": [
    "# Find where your chosen amino acid clusters are located!\n",
    "\n",
    "cutoff = 0.5\n",
    "print(f\"Mean window amino acid frequencies above {cutoff} are at positions:\\n\")\n",
    "for i, mean in enumerate(window_freq_means[0]):\n",
    "    if mean > cutoff:\n",
    "        print(i)"
   ]
  },
  {
   "cell_type": "markdown",
   "metadata": {},
   "source": [
    "# "
   ]
  }
 ],
 "metadata": {
  "kernelspec": {
   "display_name": "Python 3",
   "language": "python",
   "name": "python3"
  },
  "language_info": {
   "codemirror_mode": {
    "name": "ipython",
    "version": 3
   },
   "file_extension": ".py",
   "mimetype": "text/x-python",
   "name": "python",
   "nbconvert_exporter": "python",
   "pygments_lexer": "ipython3",
   "version": "3.7.6"
  }
 },
 "nbformat": 4,
 "nbformat_minor": 4
}
